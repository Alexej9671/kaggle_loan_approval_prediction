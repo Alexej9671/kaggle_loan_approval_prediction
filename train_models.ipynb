{
 "cells": [
  {
   "cell_type": "code",
   "execution_count": 219,
   "id": "271f14c9-9e52-40f0-8d4a-5893fa828fc3",
   "metadata": {},
   "outputs": [],
   "source": [
    "import pandas as pd\n",
    "from matplotlib import pyplot as plt\n",
    "import seaborn as sns"
   ]
  },
  {
   "cell_type": "markdown",
   "id": "efbaa464-1652-48ac-9f6e-ff5eaba4cf5d",
   "metadata": {},
   "source": [
    "# Loan Approval Prediction Data"
   ]
  },
  {
   "cell_type": "code",
   "execution_count": 220,
   "id": "0071d628-9aea-4233-bb8a-61684ca04026",
   "metadata": {},
   "outputs": [],
   "source": [
    "is_show_viz = False"
   ]
  },
  {
   "cell_type": "markdown",
   "id": "7a5827ec-e62c-4c4c-b717-54027dc7368d",
   "metadata": {},
   "source": [
    "## Read Data"
   ]
  },
  {
   "cell_type": "code",
   "execution_count": 221,
   "id": "705c99ee-38c3-4f2b-b7b1-b356627fa512",
   "metadata": {},
   "outputs": [],
   "source": [
    "df = pd.read_csv('./raw_data/train.csv')"
   ]
  },
  {
   "cell_type": "code",
   "execution_count": 222,
   "id": "d07d292f-7fea-42b4-ba4f-63bd6a3ec62d",
   "metadata": {},
   "outputs": [],
   "source": [
    "if is_show_viz == True:\n",
    "    df.info()"
   ]
  },
  {
   "cell_type": "code",
   "execution_count": 223,
   "id": "029d51bc-ba66-4224-a054-0088b966bcfb",
   "metadata": {},
   "outputs": [],
   "source": [
    "if is_show_viz == True:\n",
    "    print(df.loc[1])"
   ]
  },
  {
   "cell_type": "markdown",
   "id": "91c31954-89d6-4991-8861-5d2b6b1c5168",
   "metadata": {},
   "source": [
    "## Separate categorical from numerical columns"
   ]
  },
  {
   "cell_type": "code",
   "execution_count": 224,
   "id": "8b857812-37bc-4b13-a4d0-110054d3c348",
   "metadata": {},
   "outputs": [],
   "source": [
    "cat_cols = ['person_home_ownership', 'loan_intent', 'loan_grade','cb_person_default_on_file']\n",
    "num_cols = num_cols = [item for item in df.columns if item not in cat_cols]"
   ]
  },
  {
   "cell_type": "markdown",
   "id": "67afe366-7472-49e8-833b-15ef2bc0331d",
   "metadata": {},
   "source": [
    "## General structure of the data."
   ]
  },
  {
   "cell_type": "code",
   "execution_count": 225,
   "id": "c6068690-cd77-46e1-b906-8b9844b6b082",
   "metadata": {},
   "outputs": [],
   "source": [
    "if is_show_viz == True:\n",
    "    df.head()"
   ]
  },
  {
   "cell_type": "markdown",
   "id": "fa5b3e17-3937-40e2-99f5-6ade629bca74",
   "metadata": {},
   "source": [
    "### Overview of numerical columns"
   ]
  },
  {
   "cell_type": "code",
   "execution_count": 226,
   "id": "4c57e4c2-11ae-44fb-b24f-d6277faafaa8",
   "metadata": {},
   "outputs": [],
   "source": [
    "if is_show_viz == True:\n",
    "    df[num_cols].describe()"
   ]
  },
  {
   "cell_type": "markdown",
   "id": "aef49026-b0d7-4b89-b044-faaecfee47b6",
   "metadata": {},
   "source": [
    "#### => No extreme outliers."
   ]
  },
  {
   "cell_type": "markdown",
   "id": "b8d1b330-44fd-4b28-948a-3eddfd6e232b",
   "metadata": {},
   "source": [
    "### Plot categorical variables"
   ]
  },
  {
   "cell_type": "code",
   "execution_count": 227,
   "id": "1324b93e-9c9d-4b3f-8b34-75f6759da467",
   "metadata": {},
   "outputs": [],
   "source": [
    "if is_show_viz == True:\n",
    "    for i in cat_cols:\n",
    "        counts = df[i].value_counts()\n",
    "        counts.plot(kind = 'bar')\n",
    "        plt.ylabel('count')\n",
    "        plt.title(i)\n",
    "        plt.xticks(rotation=45)\n",
    "        plt.show()"
   ]
  },
  {
   "cell_type": "markdown",
   "id": "73d5a539-c99d-422b-a495-490546c30ccb",
   "metadata": {},
   "source": [
    "### Plot numerical variables"
   ]
  },
  {
   "cell_type": "code",
   "execution_count": 228,
   "id": "95bde320-9f8c-433f-ae3e-b36c9940b325",
   "metadata": {
    "scrolled": true
   },
   "outputs": [],
   "source": [
    "if is_show_viz == True:\n",
    "    for i in num_cols:\n",
    "        plt.hist(df[i], bins = 30, edgecolor = 'black')\n",
    "        plt.ylabel('Frequency')\n",
    "        plt.title(i)\n",
    "        plt.show()"
   ]
  },
  {
   "cell_type": "markdown",
   "id": "062b98cf-eea7-49d2-8915-b13d1ca7d5c9",
   "metadata": {},
   "source": [
    "## Preprocessing"
   ]
  },
  {
   "cell_type": "markdown",
   "id": "6ab024f5-a209-41cf-ae49-b2380387b86c",
   "metadata": {},
   "source": [
    "### Duplicates - No."
   ]
  },
  {
   "cell_type": "code",
   "execution_count": 229,
   "id": "7ee42c06-4934-46f2-87c2-2f2f06d74635",
   "metadata": {},
   "outputs": [],
   "source": [
    "if is_show_viz == True:\n",
    "    print(df.duplicated().sum())"
   ]
  },
  {
   "cell_type": "markdown",
   "id": "7fcda51e-432c-4dd7-9c34-db9d9c3a9d0a",
   "metadata": {},
   "source": [
    "### Missing values - No."
   ]
  },
  {
   "cell_type": "code",
   "execution_count": 230,
   "id": "84b06b99-42e3-48c1-b0e2-afd129c3356b",
   "metadata": {},
   "outputs": [],
   "source": [
    "if is_show_viz == True:\n",
    "    print(df.isna().sum())"
   ]
  },
  {
   "cell_type": "markdown",
   "id": "c3245bd7-b855-4a8d-af4e-0eae07014d5a",
   "metadata": {},
   "source": [
    "### Overview of categorical data"
   ]
  },
  {
   "cell_type": "code",
   "execution_count": 231,
   "id": "5979b183-6242-4c15-ba55-ed0e998130c4",
   "metadata": {},
   "outputs": [],
   "source": [
    "if is_show_viz == True:\n",
    "    for col in df[cat_cols]:\n",
    "        print(f\"{col}: {df[col].unique()}\")"
   ]
  },
  {
   "cell_type": "markdown",
   "id": "bb31a133-1d65-4a9f-9e40-a02f697b2232",
   "metadata": {},
   "source": [
    "### Encode categorical ordinal data"
   ]
  },
  {
   "cell_type": "code",
   "execution_count": 232,
   "id": "ea077e8d-cfc2-4964-b8b4-e0b777d36e80",
   "metadata": {},
   "outputs": [
    {
     "data": {
      "text/html": [
       "<div>\n",
       "<style scoped>\n",
       "    .dataframe tbody tr th:only-of-type {\n",
       "        vertical-align: middle;\n",
       "    }\n",
       "\n",
       "    .dataframe tbody tr th {\n",
       "        vertical-align: top;\n",
       "    }\n",
       "\n",
       "    .dataframe thead th {\n",
       "        text-align: right;\n",
       "    }\n",
       "</style>\n",
       "<table border=\"1\" class=\"dataframe\">\n",
       "  <thead>\n",
       "    <tr style=\"text-align: right;\">\n",
       "      <th></th>\n",
       "      <th>person_home_ownership</th>\n",
       "      <th>loan_intent</th>\n",
       "      <th>loan_grade</th>\n",
       "      <th>cb_person_default_on_file</th>\n",
       "    </tr>\n",
       "  </thead>\n",
       "  <tbody>\n",
       "    <tr>\n",
       "      <th>0</th>\n",
       "      <td>RENT</td>\n",
       "      <td>EDUCATION</td>\n",
       "      <td>6</td>\n",
       "      <td>0</td>\n",
       "    </tr>\n",
       "    <tr>\n",
       "      <th>1</th>\n",
       "      <td>OWN</td>\n",
       "      <td>MEDICAL</td>\n",
       "      <td>5</td>\n",
       "      <td>0</td>\n",
       "    </tr>\n",
       "    <tr>\n",
       "      <th>2</th>\n",
       "      <td>OWN</td>\n",
       "      <td>PERSONAL</td>\n",
       "      <td>7</td>\n",
       "      <td>0</td>\n",
       "    </tr>\n",
       "    <tr>\n",
       "      <th>3</th>\n",
       "      <td>RENT</td>\n",
       "      <td>VENTURE</td>\n",
       "      <td>6</td>\n",
       "      <td>0</td>\n",
       "    </tr>\n",
       "    <tr>\n",
       "      <th>4</th>\n",
       "      <td>RENT</td>\n",
       "      <td>MEDICAL</td>\n",
       "      <td>7</td>\n",
       "      <td>0</td>\n",
       "    </tr>\n",
       "  </tbody>\n",
       "</table>\n",
       "</div>"
      ],
      "text/plain": [
       "  person_home_ownership loan_intent  loan_grade  cb_person_default_on_file\n",
       "0                  RENT   EDUCATION           6                          0\n",
       "1                   OWN     MEDICAL           5                          0\n",
       "2                   OWN    PERSONAL           7                          0\n",
       "3                  RENT     VENTURE           6                          0\n",
       "4                  RENT     MEDICAL           7                          0"
      ]
     },
     "execution_count": 232,
     "metadata": {},
     "output_type": "execute_result"
    }
   ],
   "source": [
    "df['cb_person_default_on_file'] = df['cb_person_default_on_file'].map({'N': 0, 'Y': 1})\n",
    "# loan status\n",
    "df['loan_grade'] = df['loan_grade'].map({'G': 1, 'F': 2, 'E': 3, 'D': 4, 'C': 5, 'B': 6 , 'A': 7}) # needs normalization later\n",
    "df[cat_cols].head()"
   ]
  },
  {
   "cell_type": "code",
   "execution_count": 233,
   "id": "3c603de4-a642-4b61-95ef-91fdc275cde1",
   "metadata": {},
   "outputs": [],
   "source": [
    "if is_show_viz == True:\n",
    "    df.columns"
   ]
  },
  {
   "cell_type": "markdown",
   "id": "e4d0eba8-7471-49a6-b058-0371eaa3f7b5",
   "metadata": {},
   "source": [
    "### One-Hot-Encode categorical non-ordinal data"
   ]
  },
  {
   "cell_type": "code",
   "execution_count": 234,
   "id": "fc85949a-4465-4be8-8989-9ca0f816be24",
   "metadata": {},
   "outputs": [
    {
     "data": {
      "text/plain": [
       "Index(['id', 'person_age', 'person_income', 'person_emp_length', 'loan_grade',\n",
       "       'loan_amnt', 'loan_int_rate', 'loan_percent_income',\n",
       "       'cb_person_default_on_file', 'cb_person_cred_hist_length',\n",
       "       'loan_status', 'person_home_ownership_MORTGAGE',\n",
       "       'person_home_ownership_OTHER', 'person_home_ownership_OWN',\n",
       "       'person_home_ownership_RENT', 'loan_intent_DEBTCONSOLIDATION',\n",
       "       'loan_intent_EDUCATION', 'loan_intent_HOMEIMPROVEMENT',\n",
       "       'loan_intent_MEDICAL', 'loan_intent_PERSONAL', 'loan_intent_VENTURE'],\n",
       "      dtype='object')"
      ]
     },
     "execution_count": 234,
     "metadata": {},
     "output_type": "execute_result"
    }
   ],
   "source": [
    "df = pd.get_dummies(df, columns = ['person_home_ownership','loan_intent'])\n",
    "df.columns"
   ]
  },
  {
   "cell_type": "code",
   "execution_count": 235,
   "id": "6515a79f-b8c3-44a5-80e7-dc2c1f1e4c7e",
   "metadata": {},
   "outputs": [],
   "source": [
    "if is_show_viz == True:\n",
    "    df.head()"
   ]
  },
  {
   "cell_type": "markdown",
   "id": "fddc52ce-d561-4e0f-9778-62fff83a4dd8",
   "metadata": {},
   "source": [
    "## Vizualizations"
   ]
  },
  {
   "cell_type": "markdown",
   "id": "2c22988c-05d6-4cdf-8478-7780e5adbcca",
   "metadata": {},
   "source": [
    "### Correlations"
   ]
  },
  {
   "cell_type": "code",
   "execution_count": 236,
   "id": "16bade48-2320-4be2-83d1-80db5d886a90",
   "metadata": {},
   "outputs": [],
   "source": [
    "if is_show_viz == True:\n",
    "    corr_matrix = df.corr()\n",
    "    plt.figure(figsize=(8,6))\n",
    "    sns.heatmap(corr_matrix, annot=True, cmap='coolwarm', fmt='.01f', linewidths = 1)"
   ]
  },
  {
   "cell_type": "markdown",
   "id": "22931572-92fb-4197-ba53-99b8ae183fa1",
   "metadata": {},
   "source": [
    "### Pivot Tables"
   ]
  },
  {
   "cell_type": "code",
   "execution_count": 237,
   "id": "f2d8e41a-6771-4096-ac41-34bfb11b79b7",
   "metadata": {},
   "outputs": [],
   "source": [
    "if is_show_viz == True:\n",
    "    pivot = pd.pivot_table(df, index = 'person_age', columns = 'cb_person_cred_hist_length', aggfunc='size', fill_value = 0)\n",
    "    plt.figure(figsize=(12,8))\n",
    "    sns.heatmap(pivot, cmap = 'YlGnBu', annot=True, fmt=\"d\", linewidths = 0.5)\n",
    "    plt.title('Frequency of Person Age and Credit History Length Combinations')\n",
    "    plt.xlabel('Credit History Length')\n",
    "    plt.ylabel('Person Age')\n",
    "    plt.show()"
   ]
  },
  {
   "cell_type": "code",
   "execution_count": 238,
   "id": "198bf4df-f301-43d5-8aae-a4d8e671b669",
   "metadata": {},
   "outputs": [],
   "source": [
    "if is_show_viz == True:\n",
    "    pivot = pd.pivot_table(df, index = 'person_home_ownership_RENT', columns = 'person_home_ownership_MORTGAGE', aggfunc='size', fill_value = 0)\n",
    "    plt.figure(figsize=(12,8))\n",
    "    sns.heatmap(pivot, cmap = 'YlGnBu', annot=True, fmt=\"d\", linewidths = 0.5)\n",
    "    plt.title('Frequency of home ownership = Rent and home ownership = Mortgage')\n",
    "    plt.xlabel('Mortgage')\n",
    "    plt.ylabel('Rent')\n",
    "    plt.show()"
   ]
  },
  {
   "cell_type": "code",
   "execution_count": 239,
   "id": "32f22562-e3c0-4a43-94a1-eca5ba8871a2",
   "metadata": {},
   "outputs": [],
   "source": [
    "if is_show_viz == True:\n",
    "    pivot = pd.pivot_table(df, index = 'loan_grade', columns = 'cb_person_default_on_file', aggfunc='size', fill_value = 0)\n",
    "    plt.figure(figsize=(12,8))\n",
    "    sns.heatmap(pivot, cmap = 'YlGnBu', annot=True, fmt=\"d\", linewidths = 0.5)\n",
    "    plt.title('Frequency of loangrade and default on file')\n",
    "    plt.xlabel('default on file')\n",
    "    plt.ylabel('loangrade')\n",
    "    plt.show()"
   ]
  },
  {
   "cell_type": "code",
   "execution_count": 240,
   "id": "74b26528-49f0-473b-bf73-df89dce1ee3f",
   "metadata": {},
   "outputs": [],
   "source": [
    "if is_show_viz == True:\n",
    "    plt.figure(figsize=(12, 8))\n",
    "    sns.violinplot(data=df, x='cb_person_default_on_file', y='loan_int_rate', hue='cb_person_default_on_file', palette='YlGnBu', legend=False)\n",
    "    plt.title('Distribution of Interest Rates by Default Status')\n",
    "    plt.xlabel('Default on File')\n",
    "    plt.ylabel('Interest Rate')\n",
    "    plt.show()"
   ]
  },
  {
   "cell_type": "markdown",
   "id": "727ffa5e-9d3d-488a-aeb1-51d61e605d13",
   "metadata": {},
   "source": [
    "### Vizualizing Outliers"
   ]
  },
  {
   "cell_type": "code",
   "execution_count": 241,
   "id": "c6ed37d1-4b51-45de-88d1-db311a5c3e70",
   "metadata": {
    "scrolled": true
   },
   "outputs": [],
   "source": [
    "import math\n",
    "\n",
    "if is_show_viz == True:\n",
    "    stats_df = pd.DataFrame(index=df.select_dtypes(include=['float64', 'int64']).columns,\n",
    "                        columns=['Q1', 'Q3', 'IQR'])\n",
    "    #print(stats_df.index)\n",
    "    num_features = len(stats_df.index)\n",
    "    num_cols = len(stats_df.columns)\n",
    "    num_rows = math.ceil(num_features / num_cols) \n",
    "    \n",
    "    fig, axs = plt.subplots(nrows=num_rows, ncols=num_cols, figsize=(15, 5 * num_rows))\n",
    "    axs = axs.flatten()\n",
    "    \n",
    "    for i, col in enumerate(stats_df.index):\n",
    "        Q1 = df[col].quantile(0.25)\n",
    "        Q3 = df[col].quantile(0.75)\n",
    "        IQR = Q3 - Q1\n",
    "        stats_df.loc[col, 'Q1'] = Q1\n",
    "        stats_df.loc[col, 'Q3'] = Q3\n",
    "        stats_df.loc[col, 'IQR'] = IQR\n",
    "        sns.boxplot(x=df[col], ax=axs[i])\n",
    "        axs[i].set_title(f\"{col} Boxplot\")\n",
    "    \n",
    "    \n",
    "    # Hide any unused subplots\n",
    "    for j in range(i + 1, len(axs)):\n",
    "        axs[j].axis('off')\n",
    "    \n",
    "    plt.tight_layout()\n",
    "    plt.show()"
   ]
  },
  {
   "cell_type": "markdown",
   "id": "6b0df759-d2ad-4599-aadb-4184345b6bfa",
   "metadata": {},
   "source": [
    "### Removing outliers based on distance from the 25% and 75% quantiles. "
   ]
  },
  {
   "cell_type": "code",
   "execution_count": 242,
   "id": "cc33376c-b44e-4d55-9e75-a2c6a11de794",
   "metadata": {},
   "outputs": [],
   "source": [
    "if is_show_viz == True:\n",
    "    df.info()"
   ]
  },
  {
   "cell_type": "code",
   "execution_count": 243,
   "id": "87a13bca-8281-4af7-ba74-6a45238041dc",
   "metadata": {},
   "outputs": [
    {
     "name": "stdout",
     "output_type": "stream",
     "text": [
      "Number of outliers in id before removing: 0\n",
      "Number of outliers in id after removing: 0\n",
      "Number of outliers in person_age before removing: 236\n",
      "Number of outliers in person_age after removing: 0\n",
      "Number of outliers in person_income before removing: 373\n",
      "Number of outliers in person_income after removing: 0\n",
      "Number of outliers in person_emp_length before removing: 39\n",
      "Number of outliers in person_emp_length after removing: 0\n",
      "Number of outliers in loan_grade before removing: 0\n",
      "Number of outliers in loan_grade after removing: 0\n",
      "Number of outliers in loan_amnt before removing: 0\n",
      "Number of outliers in loan_amnt after removing: 0\n",
      "Number of outliers in loan_int_rate before removing: 0\n",
      "Number of outliers in loan_int_rate after removing: 0\n",
      "Number of outliers in loan_percent_income before removing: 1\n",
      "Number of outliers in loan_percent_income after removing: 0\n",
      "Number of outliers in cb_person_default_on_file before removing: 8609\n",
      "Number of outliers in cb_person_default_on_file after removing: 0\n",
      "Number of outliers in cb_person_cred_hist_length before removing: 69\n",
      "Number of outliers in cb_person_cred_hist_length after removing: 0\n"
     ]
    }
   ],
   "source": [
    "for col in df.select_dtypes(include=['float64', 'int64']).columns:\n",
    "    Q1 = df[col].quantile(0.25)\n",
    "    Q3 = df[col].quantile(0.75)\n",
    "    IQR = Q3 - Q1\n",
    "    lower_bound = Q1 - 3.5 * IQR\n",
    "    upper_bound = Q3 + 3.5 * IQR\n",
    "    \n",
    "    if col != 'loan_status':\n",
    "        num_outliers_before = ((df[col] < lower_bound) | (df[col] > upper_bound)).sum()\n",
    "        print(f\"Number of outliers in {col} before removing: {num_outliers_before}\")\n",
    "    \n",
    "        df = df.loc[lambda x: (x[col] >= lower_bound) & (x[col] <= upper_bound)]\n",
    "\n",
    "        num_outliers_after = ((df[col] < lower_bound) | (df[col] > upper_bound)).sum()\n",
    "        print(f\"Number of outliers in {col} after removing: {num_outliers_after}\")"
   ]
  },
  {
   "cell_type": "code",
   "execution_count": 244,
   "id": "ab0a6f98-b7fc-4541-8836-dffc79e27ce7",
   "metadata": {},
   "outputs": [],
   "source": [
    "if is_show_viz == True:\n",
    "    df.info()"
   ]
  },
  {
   "cell_type": "markdown",
   "id": "bdd2920d-ae4e-41ac-a52d-36c9d7fa6ddd",
   "metadata": {},
   "source": [
    "## Feature Engineering"
   ]
  },
  {
   "cell_type": "code",
   "execution_count": 245,
   "id": "5074bef4-e157-44ca-b4ca-be1ea826e206",
   "metadata": {},
   "outputs": [],
   "source": [
    "import numpy as np\n",
    "df['employment_gap'] = df['person_age'] - df['person_emp_length']\n",
    "df['loan_interest_amount'] = np.where(df['loan_amnt'] == 0, 0, df['loan_int_rate'] / 100 * df['loan_amnt'])\n",
    "df['age_to_credit_history'] = np.where(df['cb_person_cred_hist_length'] == 0, df['person_age'] , df['person_age'] / df['cb_person_cred_hist_length'])\n",
    "df['age_to_employment'] = np.where(df['person_emp_length'] == 0, df['person_age'], df['person_age'] / df['person_emp_length'])\n",
    "df['age_to_rate'] = np.where(df['loan_int_rate'] == 0, df['person_age'], df['person_age'] / df['loan_int_rate'])\n",
    "if is_show_viz == True:\n",
    "    df.info()"
   ]
  },
  {
   "cell_type": "markdown",
   "id": "69482ac7-73c0-4a3e-b559-d5c0db20961c",
   "metadata": {},
   "source": [
    "## Training models\n",
    "#### Normalization (MinMaxScaler, because no normal distribution and values should be between 0 and 1 and there are no extreme Outliers)"
   ]
  },
  {
   "cell_type": "code",
   "execution_count": 246,
   "id": "f1f72ed9-9650-4d3d-b70a-2ff103c2f75d",
   "metadata": {},
   "outputs": [
    {
     "name": "stdout",
     "output_type": "stream",
     "text": [
      "roc_auc:  0.8966706370513832\n",
      "accuracy:  0.9213300892133008\n",
      "Classification Report: \n",
      "               precision    recall  f1-score   support\n",
      "\n",
      "         0.0       0.93      0.98      0.96      8726\n",
      "         1.0       0.77      0.46      0.57      1138\n",
      "\n",
      "    accuracy                           0.92      9864\n",
      "   macro avg       0.85      0.72      0.76      9864\n",
      "weighted avg       0.91      0.92      0.91      9864\n",
      "\n",
      "roc_auc:  0.9540985528169255\n",
      "accuracy:  0.9613746958637469\n",
      "Classification Report: \n",
      "               precision    recall  f1-score   support\n",
      "\n",
      "         0.0       0.96      0.99      0.98      8726\n",
      "         1.0       0.94      0.71      0.81      1138\n",
      "\n",
      "    accuracy                           0.96      9864\n",
      "   macro avg       0.95      0.85      0.89      9864\n",
      "weighted avg       0.96      0.96      0.96      9864\n",
      "\n"
     ]
    }
   ],
   "source": [
    "from sklearn.model_selection import train_test_split, cross_val_score\n",
    "from sklearn.linear_model import LogisticRegression\n",
    "from sklearn.metrics import roc_auc_score, accuracy_score, classification_report\n",
    "from sklearn.preprocessing import MinMaxScaler\n",
    "from lightgbm import LGBMClassifier as lgbm\n",
    "\n",
    "scaler = MinMaxScaler()\n",
    "cols_to_norm = ['person_age', 'person_income', 'person_emp_length', 'loan_grade', 'loan_amnt', \n",
    "                'loan_int_rate', 'loan_percent_income', 'cb_person_cred_hist_length','loan_interest_amount','employment_gap',\n",
    "                'employment_gap','loan_interest_amount','age_to_credit_history','age_to_employment', 'age_to_rate'\n",
    "               ]\n",
    "               \n",
    "cols = [col for col in df.columns if col not in ['loan_status','id']]\n",
    "X = df[cols]\n",
    "y = df['loan_status'].astype('float64')\n",
    "\n",
    "X_train, X_test, y_train, y_test = train_test_split(X,y, test_size = 0.2, stratify=y)\n",
    "\n",
    "\n",
    "# Normalization\n",
    "X_train[cols_to_norm] = scaler.fit_transform(X_train[cols_to_norm])\n",
    "X_test[cols_to_norm] = scaler.transform(X_test[cols_to_norm])\n",
    "\n",
    "model_lr = LogisticRegression(max_iter=7000)\n",
    "model_lgbm = lgbm(device = 'gpu', n_jobs = 1, verbose = -1)\n",
    "\n",
    "models = [model_lr, model_lgbm]\n",
    "for model in models:\n",
    "    model.fit(X_train, y_train)\n",
    "    \n",
    "    y_pred = model.predict(X_test)\n",
    "    y_pred_proba = model.predict_proba(X_test)[:,1]\n",
    "    \n",
    "    score = roc_auc_score(y_test, y_pred_proba)\n",
    "    acc = accuracy_score(y_test, y_pred)\n",
    "    report = classification_report(y_test, y_pred)\n",
    "    \n",
    "    print('roc_auc: ', score)\n",
    "    print('accuracy: ', acc)\n",
    "    print('Classification Report: \\n', report)"
   ]
  },
  {
   "cell_type": "markdown",
   "id": "a5ac8525-68d7-490c-996b-a445518e1ec4",
   "metadata": {},
   "source": [
    "## Optuna tuning"
   ]
  },
  {
   "cell_type": "code",
   "execution_count": 247,
   "id": "c82efd6c-920a-4e74-8d88-10cb0f25d324",
   "metadata": {},
   "outputs": [
    {
     "name": "stderr",
     "output_type": "stream",
     "text": [
      "[I 2024-11-05 22:23:41,019] A new study created in memory with name: no-name-62413278-777f-4167-a97f-6850c37d28d7\n",
      "[I 2024-11-05 22:23:47,667] Trial 0 finished with value: 0.9455155615824373 and parameters: {'learning_rate': 0.08845451621560302, 'n_estimators': 641, 'max_depth': 6, 'num_leaves': 118, 'feature_fraction': 0.7986872849264339, 'bagging_fraction': 0.9547740979028987, 'lambda_l1': 3.1057431867752032, 'lambda_l2': 2.079057344159426e-05}. Best is trial 0 with value: 0.9455155615824373.\n",
      "[I 2024-11-05 22:23:52,062] Trial 1 finished with value: 0.946750637562152 and parameters: {'learning_rate': 0.06184787392255232, 'n_estimators': 546, 'max_depth': 5, 'num_leaves': 68, 'feature_fraction': 0.8733249685255821, 'bagging_fraction': 0.8557749563574011, 'lambda_l1': 4.851084479663115e-05, 'lambda_l2': 0.0012101926171261268}. Best is trial 1 with value: 0.946750637562152.\n",
      "[I 2024-11-05 22:23:56,148] Trial 2 finished with value: 0.9411921244935902 and parameters: {'learning_rate': 0.16833585393805756, 'n_estimators': 144, 'max_depth': 12, 'num_leaves': 97, 'feature_fraction': 0.5576385092795817, 'bagging_fraction': 0.885166270789544, 'lambda_l1': 0.00036806942800227295, 'lambda_l2': 4.075020027673399e-06}. Best is trial 1 with value: 0.946750637562152.\n",
      "[I 2024-11-05 22:24:07,646] Trial 3 finished with value: 0.9473191981616144 and parameters: {'learning_rate': 0.015073689238524052, 'n_estimators': 587, 'max_depth': 8, 'num_leaves': 74, 'feature_fraction': 0.7075367192592257, 'bagging_fraction': 0.6149498755334369, 'lambda_l1': 4.078952670451229e-08, 'lambda_l2': 0.00019295566137473205}. Best is trial 3 with value: 0.9473191981616144.\n",
      "[I 2024-11-05 22:24:14,184] Trial 4 finished with value: 0.9414190304506764 and parameters: {'learning_rate': 0.23631606380531364, 'n_estimators': 933, 'max_depth': 10, 'num_leaves': 24, 'feature_fraction': 0.6211830061788072, 'bagging_fraction': 0.6401070329352233, 'lambda_l1': 1.0409406199291407, 'lambda_l2': 0.001343764902123996}. Best is trial 3 with value: 0.9473191981616144.\n",
      "[I 2024-11-05 22:24:21,553] Trial 5 finished with value: 0.9441352902819583 and parameters: {'learning_rate': 0.06482883205571723, 'n_estimators': 797, 'max_depth': 9, 'num_leaves': 25, 'feature_fraction': 0.8754049423076967, 'bagging_fraction': 0.6289542282180012, 'lambda_l1': 2.563721071611452e-07, 'lambda_l2': 1.1156910870426463e-05}. Best is trial 3 with value: 0.9473191981616144.\n",
      "[I 2024-11-05 22:24:23,663] Trial 6 finished with value: 0.9494729758528867 and parameters: {'learning_rate': 0.1567771264642283, 'n_estimators': 487, 'max_depth': 3, 'num_leaves': 50, 'feature_fraction': 0.8155317089131539, 'bagging_fraction': 0.594724692444444, 'lambda_l1': 1.8304584557138635, 'lambda_l2': 0.0002825258688921562}. Best is trial 6 with value: 0.9494729758528867.\n",
      "[I 2024-11-05 22:24:25,721] Trial 7 finished with value: 0.9483432753990177 and parameters: {'learning_rate': 0.14844935424416572, 'n_estimators': 324, 'max_depth': 4, 'num_leaves': 78, 'feature_fraction': 0.9807642087042353, 'bagging_fraction': 0.5841205108333648, 'lambda_l1': 1.1776575668371223, 'lambda_l2': 0.0046576629153277024}. Best is trial 6 with value: 0.9494729758528867.\n",
      "[I 2024-11-05 22:24:32,742] Trial 8 finished with value: 0.9478469949968099 and parameters: {'learning_rate': 0.038806641211833394, 'n_estimators': 576, 'max_depth': 6, 'num_leaves': 92, 'feature_fraction': 0.5903560468199213, 'bagging_fraction': 0.7261662079740641, 'lambda_l1': 2.5725611064217806e-05, 'lambda_l2': 2.063113860793007e-05}. Best is trial 6 with value: 0.9494729758528867.\n",
      "[I 2024-11-05 22:24:43,923] Trial 9 finished with value: 0.9400136093068318 and parameters: {'learning_rate': 0.09686185457025881, 'n_estimators': 936, 'max_depth': 6, 'num_leaves': 141, 'feature_fraction': 0.6373985768355843, 'bagging_fraction': 0.543608379069798, 'lambda_l1': 1.3439820068425671e-07, 'lambda_l2': 2.8927379868045225e-05}. Best is trial 6 with value: 0.9494729758528867.\n",
      "[I 2024-11-05 22:24:45,345] Trial 10 finished with value: 0.9343734936615166 and parameters: {'learning_rate': 0.030871056643571666, 'n_estimators': 321, 'max_depth': 3, 'num_leaves': 49, 'feature_fraction': 0.7338939860012134, 'bagging_fraction': 0.5009632360531248, 'lambda_l1': 0.008194296807301786, 'lambda_l2': 2.497401794457453}. Best is trial 6 with value: 0.9494729758528867.\n",
      "[I 2024-11-05 22:24:46,837] Trial 11 finished with value: 0.9477665813748007 and parameters: {'learning_rate': 0.15654138602350318, 'n_estimators': 364, 'max_depth': 3, 'num_leaves': 54, 'feature_fraction': 0.9938024847446029, 'bagging_fraction': 0.5641514605494393, 'lambda_l1': 0.08604893477678101, 'lambda_l2': 0.12539412538694253}. Best is trial 6 with value: 0.9494729758528867.\n",
      "[I 2024-11-05 22:24:47,932] Trial 12 finished with value: 0.9462966618655306 and parameters: {'learning_rate': 0.23097223144249432, 'n_estimators': 231, 'max_depth': 4, 'num_leaves': 49, 'feature_fraction': 0.9505699376379128, 'bagging_fraction': 0.7230490020561373, 'lambda_l1': 8.021051488031036, 'lambda_l2': 4.471066322655684e-08}. Best is trial 6 with value: 0.9494729758528867.\n",
      "[I 2024-11-05 22:24:50,223] Trial 13 finished with value: 0.9482765997837794 and parameters: {'learning_rate': 0.1280424860319908, 'n_estimators': 400, 'max_depth': 4, 'num_leaves': 109, 'feature_fraction': 0.8066312030977213, 'bagging_fraction': 0.5731924908767521, 'lambda_l1': 0.0408066196067856, 'lambda_l2': 0.02895685872858971}. Best is trial 6 with value: 0.9494729758528867.\n",
      "[I 2024-11-05 22:24:50,867] Trial 14 finished with value: 0.944480063665534 and parameters: {'learning_rate': 0.28071981661169587, 'n_estimators': 90, 'max_depth': 3, 'num_leaves': 74, 'feature_fraction': 0.868160291926303, 'bagging_fraction': 0.6807397494301693, 'lambda_l1': 0.29183762670041735, 'lambda_l2': 0.021435873584472125}. Best is trial 6 with value: 0.9494729758528867.\n"
     ]
    },
    {
     "name": "stdout",
     "output_type": "stream",
     "text": [
      "Best trial:\n",
      "  Value: 0.9494729758528867\n",
      "  Params: \n",
      "    learning_rate: 0.1567771264642283\n",
      "    n_estimators: 487\n",
      "    max_depth: 3\n",
      "    num_leaves: 50\n",
      "    feature_fraction: 0.8155317089131539\n",
      "    bagging_fraction: 0.594724692444444\n",
      "    lambda_l1: 1.8304584557138635\n",
      "    lambda_l2: 0.0002825258688921562\n"
     ]
    }
   ],
   "source": [
    "import optuna\n",
    "# Optuna Hyperparameter Tuning\n",
    "# Define the objective function for Optuna\n",
    "def objective(trial):\n",
    "    param = {\n",
    "        'device': 'gpu',\n",
    "        'n_jobs': 1,\n",
    "        'verbose': -1,\n",
    "        'learning_rate': trial.suggest_float('learning_rate', 0.01, 0.3, log=True),\n",
    "        'n_estimators': trial.suggest_int('n_estimators', 50, 1000),\n",
    "        'max_depth': trial.suggest_int('max_depth', 3, 12),\n",
    "        'num_leaves': trial.suggest_int('num_leaves', 20, 150),\n",
    "        'feature_fraction': trial.suggest_float('feature_fraction', 0.5, 1.0, log=True),\n",
    "        'bagging_fraction': trial.suggest_float('bagging_fraction', 0.5, 1.0, log=True),\n",
    "        'lambda_l1': trial.suggest_float('lambda_l1', 1e-8, 10.0, log=True),\n",
    "        'lambda_l2': trial.suggest_float('lambda_l2', 1e-8, 10.0, log=True),\n",
    "    }\n",
    "    \n",
    "    model = lgbm(**param)\n",
    "    score = cross_val_score(model, X_train, y_train, cv=3, scoring='roc_auc').mean()\n",
    "    return score\n",
    "\n",
    "# Create a study and run the optimization\n",
    "study = optuna.create_study(direction='maximize')\n",
    "study.optimize(objective, n_trials=15)\n",
    "\n",
    "# Print the best trial\n",
    "print('Best trial:')\n",
    "trial = study.best_trial\n",
    "print(f'  Value: {trial.value}')\n",
    "print('  Params: ')\n",
    "for key, value in trial.params.items():\n",
    "    print(f'    {key}: {value}')"
   ]
  },
  {
   "cell_type": "markdown",
   "id": "8c3dfb45-fe98-4f09-9fe7-49015511a2b9",
   "metadata": {},
   "source": [
    "## Train model with the best parameters"
   ]
  },
  {
   "cell_type": "code",
   "execution_count": 248,
   "id": "12180ec1-8099-4024-9cbc-639420b1c8f3",
   "metadata": {},
   "outputs": [
    {
     "name": "stdout",
     "output_type": "stream",
     "text": [
      "Best LGBM model performance:\n",
      "roc_auc:  0.9553011483770498\n",
      "accuracy:  0.9603609083536091\n",
      "Classification Report: \n",
      "               precision    recall  f1-score   support\n",
      "\n",
      "         0.0       0.96      0.99      0.98      8726\n",
      "         1.0       0.92      0.71      0.81      1138\n",
      "\n",
      "    accuracy                           0.96      9864\n",
      "   macro avg       0.94      0.85      0.89      9864\n",
      "weighted avg       0.96      0.96      0.96      9864\n",
      "\n"
     ]
    }
   ],
   "source": [
    "# Train model with the best parameters\n",
    "best_params = study.best_params\n",
    "best_model = lgbm(**best_params, device='gpu', n_jobs=1, verbose=-1)\n",
    "best_model.fit(X_train, y_train)\n",
    "\n",
    "# Evaluate the model\n",
    "y_pred = best_model.predict(X_test)\n",
    "y_pred_proba = best_model.predict_proba(X_test)[:, 1]\n",
    "\n",
    "score = roc_auc_score(y_test, y_pred_proba)\n",
    "acc = accuracy_score(y_test, y_pred)\n",
    "report = classification_report(y_test, y_pred)\n",
    "\n",
    "print('Best LGBM model performance:')\n",
    "print('roc_auc: ', score)\n",
    "print('accuracy: ', acc)\n",
    "print('Classification Report: \\n', report)"
   ]
  },
  {
   "cell_type": "code",
   "execution_count": null,
   "id": "96ea201e-b4d8-4a54-9777-ccf3aed2ab34",
   "metadata": {},
   "outputs": [],
   "source": []
  }
 ],
 "metadata": {
  "kernelspec": {
   "display_name": "Python myenv",
   "language": "python",
   "name": "myenv"
  },
  "language_info": {
   "codemirror_mode": {
    "name": "ipython",
    "version": 3
   },
   "file_extension": ".py",
   "mimetype": "text/x-python",
   "name": "python",
   "nbconvert_exporter": "python",
   "pygments_lexer": "ipython3",
   "version": "3.9.12"
  }
 },
 "nbformat": 4,
 "nbformat_minor": 5
}
